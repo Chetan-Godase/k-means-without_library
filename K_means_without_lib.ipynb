{
  "nbformat": 4,
  "nbformat_minor": 0,
  "metadata": {
    "colab": {
      "name": "K_means_without_lib.ipynb",
      "provenance": []
    },
    "kernelspec": {
      "name": "python3",
      "display_name": "Python 3"
    },
    "language_info": {
      "name": "python"
    },
    "accelerator": "GPU"
  },
  "cells": [
    {
      "cell_type": "code",
      "metadata": {
        "id": "HDjBeidXmHTB"
      },
      "source": [
        "import numpy as np\n",
        "from sklearn import datasets\n",
        "from sklearn.datasets import load_iris\n",
        "import random\n",
        "import pandas as pd\n",
        "from matplotlib import pyplot as plt\n"
      ],
      "execution_count": 1,
      "outputs": []
    },
    {
      "cell_type": "code",
      "metadata": {
        "id": "ElSGlIXOmR--"
      },
      "source": [
        "def head_point_dist(X1, X2):\n",
        "    return(sum((X1 - X2)**2))**0.5"
      ],
      "execution_count": 2,
      "outputs": []
    },
    {
      "cell_type": "code",
      "metadata": {
        "colab": {
          "base_uri": "https://localhost:8080/"
        },
        "id": "BFB3xV_gqqEk",
        "outputId": "718b279e-5621-4a6f-cddd-f116a0093be8"
      },
      "source": [
        "iris=pd.read_csv(\"/content/drive/MyDrive/Iris.csv\")\n",
        "x=iris.to_numpy()\n",
        "cluster_indices= np.random.choice(len(x), size=3, replace=False)\n",
        "cluster_heads=[]\n",
        "for i in cluster_indices:\n",
        "  cluster_heads.append(x[i])\n",
        "cluster_heads=np.array(cluster_heads)\n",
        "\n",
        "cluster_heads"
      ],
      "execution_count": 3,
      "outputs": [
        {
          "output_type": "execute_result",
          "data": {
            "text/plain": [
              "array([[7. , 3.2, 4.7, 1.4],\n",
              "       [6.6, 2.9, 4.6, 1.3],\n",
              "       [5.8, 2.7, 5.1, 1.9]])"
            ]
          },
          "metadata": {
            "tags": []
          },
          "execution_count": 3
        }
      ]
    },
    {
      "cell_type": "code",
      "metadata": {
        "id": "AG7jzQL_r4xX"
      },
      "source": [
        "def nearest_centroid(ic, X):\n",
        "    assigned_centroid = []\n",
        "    for i in X:\n",
        "        distance=[]\n",
        "        for j in ic:\n",
        "            distance.append(head_point_dist(i, j))\n",
        "        assigned_centroid.append(np.argmin(distance))\n",
        "    return(assigned_centroid)\n"
      ],
      "execution_count": 4,
      "outputs": []
    },
    {
      "cell_type": "code",
      "metadata": {
        "id": "zNe4QbjEsLOU"
      },
      "source": [
        "get_centroids = nearest_centroid(cluster_heads, x)\n",
        "get_centroids"
      ],
      "execution_count": null,
      "outputs": []
    },
    {
      "cell_type": "code",
      "metadata": {
        "id": "LhWzc3wzshk0"
      },
      "source": [
        "def calc_centroids(clusters, x):\n",
        "  new_centroids={}\n",
        "  c_values=[]\n",
        "  for i in range(len(get_centroids)):\n",
        "    if get_centroids[i] not in new_centroids.keys():\n",
        "      new_centroids[get_centroids[i]]=[x[i]]\n",
        "    else:\n",
        "      new_centroids[get_centroids[i]].append(x[i])\n",
        "  for key in new_centroids.keys():\n",
        "    c_values.append(np.mean(new_centroids[key],axis=0))\n",
        "  return c_values"
      ],
      "execution_count": 6,
      "outputs": []
    },
    {
      "cell_type": "code",
      "metadata": {
        "colab": {
          "base_uri": "https://localhost:8080/"
        },
        "id": "K7U-4JOctGp4",
        "outputId": "5a012953-921c-423a-cc7c-6f625508ec94"
      },
      "source": [
        "all_clusters=[]\n",
        "get_new_clusters=[]\n",
        "final_clusters={}\n",
        "dict_cc={}\n",
        "df_pk=iris.copy(deep=True)\n",
        "for i in range(100):\n",
        "    get_centroids = nearest_centroid(cluster_heads, x)\n",
        "    centroids = calc_centroids(get_centroids, x)\n",
        "    get_new_clusters = nearest_centroid(centroids, x)\n",
        "    \n",
        "    if get_centroids==get_new_clusters:\n",
        "\n",
        "        break\n",
        "    else:\n",
        "      cluster_heads=centroids\n",
        "      print(get_new_clusters)\n",
        "      continue\n",
        "\n",
        "for i in range(len(get_new_clusters)):\n",
        "    if get_new_clusters[i] not in final_clusters.keys():\n",
        "      final_clusters[get_new_clusters[i]]=[i]\n",
        "    else:\n",
        "      final_clusters[get_new_clusters[i]].append(i)\n",
        "\n",
        "print(final_clusters)\n",
        "for i,value in final_clusters.items():\n",
        "    \n",
        "    for k in value:\n",
        "        dict_cc[k]=i\n",
        "print(dict_cc)\n",
        "\n",
        "\n",
        "df_cluserhead=pd.DataFrame.from_dict(dict_cc,orient='index')\n",
        "\n",
        "df_clus=df_cluserhead.rename(columns={0:'CLusterhead'})\n",
        "\n",
        "ff=df_pk.join(df_clus)\n",
        "ff.to_csv('clustered_data.csv', sep='\\t', encoding='utf-8')"
      ],
      "execution_count": 7,
      "outputs": [
        {
          "output_type": "stream",
          "text": [
            "[0, 0, 0, 0, 0, 0, 0, 0, 0, 0, 0, 0, 0, 0, 0, 0, 0, 0, 0, 0, 0, 0, 0, 0, 0, 0, 0, 0, 0, 0, 0, 0, 0, 0, 0, 0, 0, 0, 0, 0, 0, 0, 0, 0, 0, 0, 0, 0, 0, 0, 2, 2, 2, 2, 2, 2, 2, 0, 2, 0, 0, 2, 2, 2, 0, 2, 2, 2, 2, 0, 2, 2, 2, 2, 2, 2, 2, 2, 2, 0, 0, 0, 2, 2, 2, 2, 2, 2, 2, 2, 2, 2, 2, 0, 2, 2, 2, 2, 0, 2, 1, 2, 1, 2, 1, 1, 2, 1, 1, 1, 2, 2, 1, 2, 2, 2, 2, 1, 1, 2, 1, 2, 1, 2, 1, 1, 2, 2, 2, 1, 1, 1, 2, 2, 2, 1, 2, 2, 2, 1, 1, 1, 2, 1, 1, 2, 2, 2, 2, 2]\n",
            "[0, 0, 0, 0, 0, 0, 0, 0, 0, 0, 0, 0, 0, 0, 0, 0, 0, 0, 0, 0, 0, 0, 0, 0, 0, 0, 0, 0, 0, 0, 0, 0, 0, 0, 0, 0, 0, 0, 0, 0, 0, 0, 0, 0, 0, 0, 0, 0, 0, 0, 1, 1, 1, 1, 1, 1, 1, 0, 1, 1, 1, 1, 1, 1, 1, 1, 1, 1, 1, 1, 1, 1, 1, 1, 1, 1, 1, 1, 1, 1, 1, 1, 1, 1, 1, 1, 1, 1, 1, 1, 1, 1, 1, 0, 1, 1, 1, 1, 0, 1, 2, 1, 2, 1, 2, 2, 1, 2, 2, 2, 1, 1, 2, 1, 1, 1, 2, 2, 2, 1, 2, 1, 2, 1, 2, 2, 1, 1, 2, 2, 2, 2, 2, 1, 1, 2, 2, 1, 1, 2, 2, 2, 1, 2, 2, 2, 1, 1, 1, 1]\n",
            "[0, 0, 0, 0, 0, 0, 0, 0, 0, 0, 0, 0, 0, 0, 0, 0, 0, 0, 0, 0, 0, 0, 0, 0, 0, 0, 0, 0, 0, 0, 0, 0, 0, 0, 0, 0, 0, 0, 0, 0, 0, 0, 0, 0, 0, 0, 0, 0, 0, 0, 1, 1, 1, 1, 1, 1, 1, 1, 1, 1, 1, 1, 1, 1, 1, 1, 1, 1, 1, 1, 1, 1, 1, 1, 1, 1, 1, 1, 1, 1, 1, 1, 1, 1, 1, 1, 1, 1, 1, 1, 1, 1, 1, 1, 1, 1, 1, 1, 0, 1, 2, 1, 2, 2, 2, 2, 1, 2, 2, 2, 1, 1, 2, 1, 1, 2, 2, 2, 2, 1, 2, 1, 2, 1, 2, 2, 1, 1, 2, 2, 2, 2, 2, 1, 1, 2, 2, 2, 1, 2, 2, 2, 1, 2, 2, 2, 1, 2, 2, 1]\n",
            "[0, 0, 0, 0, 0, 0, 0, 0, 0, 0, 0, 0, 0, 0, 0, 0, 0, 0, 0, 0, 0, 0, 0, 0, 0, 0, 0, 0, 0, 0, 0, 0, 0, 0, 0, 0, 0, 0, 0, 0, 0, 0, 0, 0, 0, 0, 0, 0, 0, 0, 1, 1, 1, 1, 1, 1, 1, 1, 1, 1, 1, 1, 1, 1, 1, 1, 1, 1, 1, 1, 1, 1, 1, 1, 1, 1, 1, 2, 1, 1, 1, 1, 1, 1, 1, 1, 1, 1, 1, 1, 1, 1, 1, 1, 1, 1, 1, 1, 1, 1, 2, 1, 2, 2, 2, 2, 1, 2, 2, 2, 2, 2, 2, 1, 1, 2, 2, 2, 2, 1, 2, 1, 2, 1, 2, 2, 1, 1, 2, 2, 2, 2, 2, 1, 1, 2, 2, 2, 1, 2, 2, 2, 1, 2, 2, 2, 1, 2, 2, 1]\n",
            "[0, 0, 0, 0, 0, 0, 0, 0, 0, 0, 0, 0, 0, 0, 0, 0, 0, 0, 0, 0, 0, 0, 0, 0, 0, 0, 0, 0, 0, 0, 0, 0, 0, 0, 0, 0, 0, 0, 0, 0, 0, 0, 0, 0, 0, 0, 0, 0, 0, 0, 1, 1, 2, 1, 1, 1, 1, 1, 1, 1, 1, 1, 1, 1, 1, 1, 1, 1, 1, 1, 1, 1, 1, 1, 1, 1, 1, 2, 1, 1, 1, 1, 1, 1, 1, 1, 1, 1, 1, 1, 1, 1, 1, 1, 1, 1, 1, 1, 1, 1, 2, 1, 2, 2, 2, 2, 1, 2, 2, 2, 2, 2, 2, 1, 1, 2, 2, 2, 2, 1, 2, 1, 2, 1, 2, 2, 1, 1, 2, 2, 2, 2, 2, 1, 2, 2, 2, 2, 1, 2, 2, 2, 1, 2, 2, 2, 1, 2, 2, 1]\n",
            "{0: [0, 1, 2, 3, 4, 5, 6, 7, 8, 9, 10, 11, 12, 13, 14, 15, 16, 17, 18, 19, 20, 21, 22, 23, 24, 25, 26, 27, 28, 29, 30, 31, 32, 33, 34, 35, 36, 37, 38, 39, 40, 41, 42, 43, 44, 45, 46, 47, 48, 49], 1: [50, 51, 53, 54, 55, 56, 57, 58, 59, 60, 61, 62, 63, 64, 65, 66, 67, 68, 69, 70, 71, 72, 73, 74, 75, 76, 78, 79, 80, 81, 82, 83, 84, 85, 86, 87, 88, 89, 90, 91, 92, 93, 94, 95, 96, 97, 98, 99, 101, 106, 113, 114, 119, 121, 123, 126, 127, 133, 138, 142, 146, 149], 2: [52, 77, 100, 102, 103, 104, 105, 107, 108, 109, 110, 111, 112, 115, 116, 117, 118, 120, 122, 124, 125, 128, 129, 130, 131, 132, 134, 135, 136, 137, 139, 140, 141, 143, 144, 145, 147, 148]}\n",
            "{0: 0, 1: 0, 2: 0, 3: 0, 4: 0, 5: 0, 6: 0, 7: 0, 8: 0, 9: 0, 10: 0, 11: 0, 12: 0, 13: 0, 14: 0, 15: 0, 16: 0, 17: 0, 18: 0, 19: 0, 20: 0, 21: 0, 22: 0, 23: 0, 24: 0, 25: 0, 26: 0, 27: 0, 28: 0, 29: 0, 30: 0, 31: 0, 32: 0, 33: 0, 34: 0, 35: 0, 36: 0, 37: 0, 38: 0, 39: 0, 40: 0, 41: 0, 42: 0, 43: 0, 44: 0, 45: 0, 46: 0, 47: 0, 48: 0, 49: 0, 50: 1, 51: 1, 53: 1, 54: 1, 55: 1, 56: 1, 57: 1, 58: 1, 59: 1, 60: 1, 61: 1, 62: 1, 63: 1, 64: 1, 65: 1, 66: 1, 67: 1, 68: 1, 69: 1, 70: 1, 71: 1, 72: 1, 73: 1, 74: 1, 75: 1, 76: 1, 78: 1, 79: 1, 80: 1, 81: 1, 82: 1, 83: 1, 84: 1, 85: 1, 86: 1, 87: 1, 88: 1, 89: 1, 90: 1, 91: 1, 92: 1, 93: 1, 94: 1, 95: 1, 96: 1, 97: 1, 98: 1, 99: 1, 101: 1, 106: 1, 113: 1, 114: 1, 119: 1, 121: 1, 123: 1, 126: 1, 127: 1, 133: 1, 138: 1, 142: 1, 146: 1, 149: 1, 52: 2, 77: 2, 100: 2, 102: 2, 103: 2, 104: 2, 105: 2, 107: 2, 108: 2, 109: 2, 110: 2, 111: 2, 112: 2, 115: 2, 116: 2, 117: 2, 118: 2, 120: 2, 122: 2, 124: 2, 125: 2, 128: 2, 129: 2, 130: 2, 131: 2, 132: 2, 134: 2, 135: 2, 136: 2, 137: 2, 139: 2, 140: 2, 141: 2, 143: 2, 144: 2, 145: 2, 147: 2, 148: 2}\n"
          ],
          "name": "stdout"
        }
      ]
    },
    {
      "cell_type": "code",
      "metadata": {
        "id": "cDkErA49tRNn"
      },
      "source": [
        ""
      ],
      "execution_count": 7,
      "outputs": []
    }
  ]
}